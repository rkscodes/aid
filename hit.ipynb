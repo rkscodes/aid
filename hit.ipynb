{
 "cells": [
  {
   "cell_type": "code",
   "execution_count": 5,
   "id": "88a3c6fd-5569-4be9-822b-3e5187c3ae8e",
   "metadata": {
    "execution": {
     "iopub.execute_input": "2023-11-06T14:41:25.420292Z",
     "iopub.status.busy": "2023-11-06T14:41:25.419428Z",
     "iopub.status.idle": "2023-11-06T14:41:25.426891Z",
     "shell.execute_reply": "2023-11-06T14:41:25.425388Z",
     "shell.execute_reply.started": "2023-11-06T14:41:25.420232Z"
    }
   },
   "outputs": [],
   "source": [
    "import requests"
   ]
  },
  {
   "cell_type": "code",
   "execution_count": 6,
   "id": "c3f37c99-686f-4fd5-9c0f-5c444f066942",
   "metadata": {
    "execution": {
     "iopub.execute_input": "2023-11-06T14:41:26.370286Z",
     "iopub.status.busy": "2023-11-06T14:41:26.369866Z",
     "iopub.status.idle": "2023-11-06T14:41:26.373996Z",
     "shell.execute_reply": "2023-11-06T14:41:26.373131Z",
     "shell.execute_reply.started": "2023-11-06T14:41:26.370255Z"
    }
   },
   "outputs": [],
   "source": [
    "url = \"http://127.0.0.1:6969/predict\""
   ]
  },
  {
   "cell_type": "code",
   "execution_count": 7,
   "id": "9dc06ed6-0aad-401f-83b0-558445f68abe",
   "metadata": {
    "execution": {
     "iopub.execute_input": "2023-11-06T14:41:27.188820Z",
     "iopub.status.busy": "2023-11-06T14:41:27.188403Z",
     "iopub.status.idle": "2023-11-06T14:41:27.195462Z",
     "shell.execute_reply": "2023-11-06T14:41:27.193911Z",
     "shell.execute_reply.started": "2023-11-06T14:41:27.188778Z"
    }
   },
   "outputs": [],
   "source": [
    "patient = {'highbp': 'false',\n",
    " 'highchol': 'true',\n",
    " 'cholcheck': 'true',\n",
    " 'bmi': 25,\n",
    " 'smoker': 'true',\n",
    " 'stroke': 'false',\n",
    " 'heartdiseaseorattack': 'false',\n",
    " 'physactivity': 'true',\n",
    " 'fruits': 'false',\n",
    " 'veggies': 'true',\n",
    " 'hvyalcoholconsump': 'false',\n",
    " 'anyhealthcare': 'true',\n",
    " 'nodocbccost': 'false',\n",
    " 'genhlth': 'good',\n",
    " 'menthlth': 15,\n",
    " 'physhlth': 3,\n",
    " 'diffwalk': 'true',\n",
    " 'sex': 'false',\n",
    " 'age': 'age_60_to_64',\n",
    " 'education': 'college_4_to_more',\n",
    " 'income': '$50000_to_less_than_$75000'\n",
    "}\n"
   ]
  },
  {
   "cell_type": "code",
   "execution_count": 8,
   "id": "5e9bd40d-9fc4-4720-8953-22395c67b898",
   "metadata": {
    "execution": {
     "iopub.execute_input": "2023-11-06T14:41:29.143145Z",
     "iopub.status.busy": "2023-11-06T14:41:29.142415Z",
     "iopub.status.idle": "2023-11-06T14:41:29.173464Z",
     "shell.execute_reply": "2023-11-06T14:41:29.172276Z",
     "shell.execute_reply.started": "2023-11-06T14:41:29.143085Z"
    }
   },
   "outputs": [
    {
     "data": {
      "text/plain": [
       "{'diabetic': False, 'diabetic_proba': 0.028985507246376812}"
      ]
     },
     "execution_count": 8,
     "metadata": {},
     "output_type": "execute_result"
    }
   ],
   "source": [
    "requests.post(url, json=patient).json()"
   ]
  }
 ],
 "metadata": {
  "kernelspec": {
   "display_name": "Python 3 (ipykernel)",
   "language": "python",
   "name": "python3"
  },
  "language_info": {
   "codemirror_mode": {
    "name": "ipython",
    "version": 3
   },
   "file_extension": ".py",
   "mimetype": "text/x-python",
   "name": "python",
   "nbconvert_exporter": "python",
   "pygments_lexer": "ipython3",
   "version": "3.8.18"
  }
 },
 "nbformat": 4,
 "nbformat_minor": 5
}
