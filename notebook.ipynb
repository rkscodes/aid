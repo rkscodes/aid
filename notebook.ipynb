{
 "cells": [
  {
   "cell_type": "code",
   "execution_count": 1,
   "id": "60c69c17-396b-4fa1-94ae-3c5b8ea4b29c",
   "metadata": {
    "execution": {
     "iopub.execute_input": "2023-10-31T18:57:24.358754Z",
     "iopub.status.busy": "2023-10-31T18:57:24.358011Z",
     "iopub.status.idle": "2023-10-31T18:57:24.667251Z",
     "shell.execute_reply": "2023-10-31T18:57:24.666949Z",
     "shell.execute_reply.started": "2023-10-31T18:57:24.358721Z"
    }
   },
   "outputs": [],
   "source": [
    "import pandas as pd\n",
    "import numpy as np \n",
    "import pickle\n",
    "\n",
    "from ucimlrepo import fetch_ucirepo \n",
    "from pathlib import Path"
   ]
  },
  {
   "cell_type": "code",
   "execution_count": 2,
   "id": "0252ab7a-ba64-4480-a086-cafed3d3316c",
   "metadata": {
    "execution": {
     "iopub.execute_input": "2023-10-31T18:57:24.667749Z",
     "iopub.status.busy": "2023-10-31T18:57:24.667636Z",
     "iopub.status.idle": "2023-10-31T18:57:24.677534Z",
     "shell.execute_reply": "2023-10-31T18:57:24.677219Z",
     "shell.execute_reply.started": "2023-10-31T18:57:24.667738Z"
    }
   },
   "outputs": [],
   "source": [
    "data_cache = Path('assets/data_cache')\n",
    "\n",
    "if data_cache.is_file():\n",
    "    with open(data_cache, 'rb') as f:\n",
    "        X, y = pickle.load(f)\n",
    "else: \n",
    "    # fetch dataset \n",
    "    cdc_diabetes_health_indicators = fetch_ucirepo(id=891) \n",
    "      \n",
    "    # data (as pandas dataframes) \n",
    "    X = cdc_diabetes_health_indicators.data.features \n",
    "    y = cdc_diabetes_health_indicators.data.targets \n",
    "      \n",
    "    # metadata \n",
    "    print(cdc_diabetes_health_indicators.metadata) \n",
    "      \n",
    "    # variable information \n",
    "    print(cdc_diabetes_health_indicators.variables)\n",
    "\n",
    "    # cache it for further use\n",
    "    with open(data_cache, 'wb') as f: \n",
    "        pickle.dump((X,y), f)"
   ]
  }
 ],
 "metadata": {
  "kernelspec": {
   "display_name": "Python 3 (ipykernel)",
   "language": "python",
   "name": "python3"
  },
  "language_info": {
   "codemirror_mode": {
    "name": "ipython",
    "version": 3
   },
   "file_extension": ".py",
   "mimetype": "text/x-python",
   "name": "python",
   "nbconvert_exporter": "python",
   "pygments_lexer": "ipython3",
   "version": "3.8.18"
  }
 },
 "nbformat": 4,
 "nbformat_minor": 5
}
